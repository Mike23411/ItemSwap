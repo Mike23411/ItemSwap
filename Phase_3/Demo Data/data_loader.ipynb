{
 "cells": [
  {
   "cell_type": "code",
   "execution_count": 1,
   "id": "0c97edc4",
   "metadata": {},
   "outputs": [],
   "source": [
    "import pandas as pd\n",
    "import numpy as np\n",
    "\n",
    "postal_codes = pd.read_csv(\"postal_codes.csv\", dtype={'Zip':str})\n",
    "users = pd.read_csv(\"users.tsv\", sep = \"\\t\", dtype={'postal_code':str, 'phone_number':str}).replace({np.nan: None})\n",
    "items = pd.read_csv(\"items.tsv\", sep = \"\\t\", dtype={'piece_count':pd.Int64Dtype()}).replace({np.nan: None})\n",
    "swaps = pd.read_csv(\"swaps.tsv\", sep = \"\\t\").replace({np.nan: None})"
   ]
  },
  {
   "cell_type": "code",
   "execution_count": 2,
   "id": "bef736c3",
   "metadata": {},
   "outputs": [],
   "source": [
    "import mysql.connector as mysql\n",
    "\n",
    "# Connect to the DB\n",
    "connection = mysql.connect(\n",
    "    user='loader',\n",
    "    password='secret',\n",
    "    database='GameSwap',\n",
    "    host='localhost'\n",
    ")\n",
    "cursor = connection.cursor()\n"
   ]
  },
  {
   "cell_type": "code",
   "execution_count": 3,
   "id": "00443bce",
   "metadata": {},
   "outputs": [],
   "source": [
    "# Postal codes\n",
    "for i, p in postal_codes.iterrows():\n",
    "    sql = \"\"\"INSERT INTO Address (postal_code, city, state, latitude, longitude) \n",
    "            VALUES (%s,%s,%s,%s,%s)\"\"\"\n",
    "    val = (p.Zip, p.City, p.State, p.Latitude, p.Longitude)\n",
    "    cursor.execute(sql, val)"
   ]
  },
  {
   "cell_type": "code",
   "execution_count": 4,
   "id": "1eb5d0fd",
   "metadata": {},
   "outputs": [],
   "source": [
    "# Insert users and phones\n",
    "for i, u in users.iterrows():\n",
    "    sql = \"\"\"INSERT INTO User (email, password, first_name, last_name, nickname, postal_code) \n",
    "            VALUES (%s,%s,%s,%s,%s,%s)\"\"\"\n",
    "    val = (u.email, u.password, u.first_name, u.last_name, u.nickname, u.postal_code)\n",
    "    cursor.execute(sql, val)\n",
    "    if not pd.isna(u.phone_number):\n",
    "        sql = \"\"\"INSERT INTO Phone (phone_number, user_email, phone_type, share) \n",
    "                VALUES (%s,%s,%s,%s)\"\"\"\n",
    "        val = (f\"{u.phone_number[0:3]}-{u.phone_number[3:6]}-{u.phone_number[6:10]}\",\n",
    "               u.email, u.phone_type, u.to_share)\n",
    "        cursor.execute(sql, val)"
   ]
  },
  {
   "cell_type": "code",
   "execution_count": 5,
   "id": "7b12b3ff",
   "metadata": {},
   "outputs": [],
   "source": [
    "# Insert Items\n",
    "sql = \"\"\"INSERT INTO VideoPlatform (platform) VALUES ('Nintendo')\"\"\"\n",
    "cursor.execute(sql)\n",
    "\n",
    "sql = \"\"\"INSERT INTO VideoPlatform (platform) VALUES ('PlayStation')\"\"\"\n",
    "cursor.execute(sql)\n",
    "\n",
    "sql = \"\"\"INSERT INTO VideoPlatform (platform) VALUES ('Xbox')\"\"\"\n",
    "cursor.execute(sql)\n",
    "\n",
    "for i, item in items.iterrows():\n",
    "    sql = \"\"\"INSERT INTO Item (item_number, name, `condition`, description, user_email) VALUES (%s,%s,%s,%s,%s)\"\"\"\n",
    "    val = (item.item_number, item.title, item.condition, item.description, item.email)\n",
    "    cursor.execute(sql, val)\n",
    "    if item.type == \"Board Game\":\n",
    "        sql = \"\"\"INSERT INTO BoardItem (item_number) VALUES (%s)\"\"\"\n",
    "        val = (item.item_number,)\n",
    "    elif item.type == \"Card Game\":\n",
    "        sql = \"\"\"INSERT INTO CardItem (item_number) VALUES (%s)\"\"\"\n",
    "        val = (item.item_number,)\n",
    "    elif item.type == \"Video Game\":\n",
    "        sql = \"\"\"INSERT INTO VideoItem (item_number, platform, media) VALUES (%s,%s,%s)\"\"\"\n",
    "        val = (item.item_number, item.platform, item.media)\n",
    "    elif item.type == \"Computer Game\":\n",
    "        sql = \"\"\"INSERT INTO ComputerItem (item_number, platform) VALUES (%s,%s)\"\"\"\n",
    "        val = (item.item_number, item.platform)\n",
    "    elif item.type == \"Jigsaw Puzzle\":\n",
    "        sql = \"\"\"INSERT INTO JigsawItem (item_number, piece_count) VALUES (%s,%s)\"\"\"\n",
    "        val = (item.item_number, item.piece_count)\n",
    "        \n",
    "    cursor.execute(sql, val)"
   ]
  },
  {
   "cell_type": "code",
   "execution_count": 6,
   "id": "2dee0fc1",
   "metadata": {},
   "outputs": [],
   "source": [
    "# Insert Swaps\n",
    "for i, s in swaps.iterrows():\n",
    "    sql = \"\"\"INSERT INTO Swap (proposed_item_number, desired_item_number, proposed_date, accept_reject_date, status,\n",
    "            proposer_rating, counterparty_rating) \n",
    "            VALUES (%s,%s,%s,%s,%s,%s,%s)\"\"\"\n",
    "    val = (s.item_proposed, s.item_desired, s.date_proposed, s.date_reviewed, s.accepted, \n",
    "           s.proposer_rate, s.counterparty_rate)\n",
    "    cursor.execute(sql, val)"
   ]
  },
  {
   "cell_type": "code",
   "execution_count": 7,
   "id": "61f2d4ad",
   "metadata": {},
   "outputs": [],
   "source": [
    "connection.commit()\n",
    "connection.close()"
   ]
  },
  {
   "cell_type": "code",
   "execution_count": 8,
   "id": "2b19c01e",
   "metadata": {},
   "outputs": [],
   "source": [
    "connection.close()"
   ]
  }
 ],
 "metadata": {
  "kernelspec": {
   "display_name": "Python 3 (ipykernel)",
   "language": "python",
   "name": "python3"
  },
  "language_info": {
   "codemirror_mode": {
    "name": "ipython",
    "version": 3
   },
   "file_extension": ".py",
   "mimetype": "text/x-python",
   "name": "python",
   "nbconvert_exporter": "python",
   "pygments_lexer": "ipython3",
   "version": "3.7.13"
  }
 },
 "nbformat": 4,
 "nbformat_minor": 5
}
